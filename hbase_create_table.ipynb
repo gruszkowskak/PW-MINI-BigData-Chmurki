{
 "cells": [
  {
   "cell_type": "code",
   "execution_count": 34,
   "metadata": {
    "collapsed": true
   },
   "outputs": [],
   "source": [
    "import happybase"
   ]
  },
  {
   "cell_type": "code",
   "execution_count": 35,
   "outputs": [],
   "source": [
    "VM_address = 'localhost'\n",
    "connection = happybase.Connection(VM_address)"
   ],
   "metadata": {
    "collapsed": false,
    "pycharm": {
     "name": "#%%\n"
    }
   }
  },
  {
   "cell_type": "code",
   "execution_count": 36,
   "outputs": [
    {
     "name": "stdout",
     "output_type": "stream",
     "text": [
      "[b'F1_race', b'alphavantage', b'books', b'employees', b'orders', b'person', b'prog_langs', b'test', b'test2', b'trains', b'trees', b'tweets', b'twitter', b'wifi']\n"
     ]
    }
   ],
   "source": [
    "print(connection.tables())"
   ],
   "metadata": {
    "collapsed": false,
    "pycharm": {
     "name": "#%%\n"
    }
   }
  },
  {
   "cell_type": "code",
   "execution_count": 38,
   "outputs": [],
   "source": [
    "connection.create_table(\n",
    "    'alphavantage',\n",
    "    {\"Id\" : dict(),\n",
    "    'Time': dict(),\n",
    "    'GOOG': dict(),\n",
    "    'MSFT': dict(),\n",
    "    'AAPL': dict(),\n",
    "    'TSLA': dict()\n",
    "    }\n",
    ")"
   ],
   "metadata": {
    "collapsed": false,
    "pycharm": {
     "name": "#%%\n"
    }
   }
  },
  {
   "cell_type": "code",
   "execution_count": 39,
   "outputs": [
    {
     "name": "stdout",
     "output_type": "stream",
     "text": [
      "[b'F1_race', b'alphavantage', b'books', b'employees', b'orders', b'person', b'prog_langs', b'test', b'test2', b'trains', b'trees', b'tweets', b'twitter', b'wifi']\n"
     ]
    }
   ],
   "source": [
    "print(connection.tables())"
   ],
   "metadata": {
    "collapsed": false,
    "pycharm": {
     "name": "#%%\n"
    }
   }
  },
  {
   "cell_type": "code",
   "execution_count": 33,
   "outputs": [],
   "source": [
    "connection.create_table(\n",
    "    'twitter',\n",
    "    {'Id'  : dict(),\n",
    "     'Hashtags': dict(),\n",
    "     'Users': dict()\n",
    "    }\n",
    ")"
   ],
   "metadata": {
    "collapsed": false,
    "pycharm": {
     "name": "#%%\n"
    }
   }
  },
  {
   "cell_type": "code",
   "execution_count": null,
   "outputs": [],
   "source": [],
   "metadata": {
    "collapsed": false,
    "pycharm": {
     "name": "#%%\n"
    }
   }
  },
  {
   "cell_type": "code",
   "execution_count": 37,
   "outputs": [],
   "source": [
    "connection.disable_table('alphavantage')\n",
    "connection.delete_table('alphavantage')"
   ],
   "metadata": {
    "collapsed": false,
    "pycharm": {
     "name": "#%%\n"
    }
   }
  },
  {
   "cell_type": "code",
   "execution_count": 23,
   "outputs": [],
   "source": [
    "connection.disable_table('twitter')\n",
    "connection.delete_table('twitter')"
   ],
   "metadata": {
    "collapsed": false,
    "pycharm": {
     "name": "#%%\n"
    }
   }
  },
  {
   "cell_type": "code",
   "execution_count": null,
   "outputs": [],
   "source": [],
   "metadata": {
    "collapsed": false,
    "pycharm": {
     "name": "#%%\n"
    }
   }
  }
 ],
 "metadata": {
  "kernelspec": {
   "display_name": "Python 3",
   "language": "python",
   "name": "python3"
  },
  "language_info": {
   "codemirror_mode": {
    "name": "ipython",
    "version": 2
   },
   "file_extension": ".py",
   "mimetype": "text/x-python",
   "name": "python",
   "nbconvert_exporter": "python",
   "pygments_lexer": "ipython2",
   "version": "2.7.6"
  }
 },
 "nbformat": 4,
 "nbformat_minor": 0
}